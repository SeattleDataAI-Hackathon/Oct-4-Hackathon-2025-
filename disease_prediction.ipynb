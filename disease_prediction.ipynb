{
 "cells": [
  {
   "cell_type": "markdown",
   "id": "0787aa8f-4ebb-489e-a0d2-3d36ae685238",
   "metadata": {},
   "source": [
    "### Importing Libraries & Loading Data"
   ]
  },
  {
   "cell_type": "code",
   "execution_count": 3,
   "id": "65e46c75-e65f-4f2e-9702-6d12f3d67d74",
   "metadata": {
    "execution": {
     "iopub.execute_input": "2025-10-04T17:38:39.449312Z",
     "iopub.status.busy": "2025-10-04T17:38:39.448929Z",
     "iopub.status.idle": "2025-10-04T17:38:39.453719Z",
     "shell.execute_reply": "2025-10-04T17:38:39.453004Z",
     "shell.execute_reply.started": "2025-10-04T17:38:39.449291Z"
    }
   },
   "outputs": [],
   "source": [
    "# Data manipulation\n",
    "import pandas as pd\n",
    "import numpy as np\n",
    "\n",
    "# Visualization\n",
    "import matplotlib.pyplot as plt\n",
    "import seaborn as sns\n",
    "\n",
    "# Machine learning\n",
    "from sklearn.model_selection import train_test_split\n",
    "from sklearn.preprocessing import StandardScaler, LabelEncoder\n",
    "from sklearn.ensemble import RandomForestClassifier\n",
    "from sklearn.metrics import classification_report, confusion_matrix\n",
    "\n",
    "# For ignoring warnings\n",
    "import warnings\n",
    "warnings.filterwarnings(\"ignore\")"
   ]
  },
  {
   "cell_type": "code",
   "execution_count": 4,
   "id": "e439fd3f-0f82-4c4c-bc78-ca0617376c5a",
   "metadata": {
    "execution": {
     "iopub.execute_input": "2025-10-04T17:38:44.309049Z",
     "iopub.status.busy": "2025-10-04T17:38:44.308640Z",
     "iopub.status.idle": "2025-10-04T17:38:44.333382Z",
     "shell.execute_reply": "2025-10-04T17:38:44.332653Z",
     "shell.execute_reply.started": "2025-10-04T17:38:44.309026Z"
    }
   },
   "outputs": [
    {
     "data": {
      "text/html": [
       "<div>\n",
       "<style scoped>\n",
       "    .dataframe tbody tr th:only-of-type {\n",
       "        vertical-align: middle;\n",
       "    }\n",
       "\n",
       "    .dataframe tbody tr th {\n",
       "        vertical-align: top;\n",
       "    }\n",
       "\n",
       "    .dataframe thead th {\n",
       "        text-align: right;\n",
       "    }\n",
       "</style>\n",
       "<table border=\"1\" class=\"dataframe\">\n",
       "  <thead>\n",
       "    <tr style=\"text-align: right;\">\n",
       "      <th></th>\n",
       "      <th>age</th>\n",
       "      <th>gender</th>\n",
       "      <th>bmi</th>\n",
       "      <th>blood_pressure</th>\n",
       "      <th>cholesterol_level</th>\n",
       "      <th>glucose_level</th>\n",
       "      <th>physical_activity</th>\n",
       "      <th>smoking_status</th>\n",
       "      <th>alcohol_intake</th>\n",
       "      <th>family_history</th>\n",
       "      <th>biomarker_A</th>\n",
       "      <th>biomarker_B</th>\n",
       "      <th>biomarker_C</th>\n",
       "      <th>biomarker_D</th>\n",
       "      <th>target</th>\n",
       "    </tr>\n",
       "  </thead>\n",
       "  <tbody>\n",
       "    <tr>\n",
       "      <th>0</th>\n",
       "      <td>69</td>\n",
       "      <td>0</td>\n",
       "      <td>27.27</td>\n",
       "      <td>95.0</td>\n",
       "      <td>185.1</td>\n",
       "      <td>129.1</td>\n",
       "      <td>1.8</td>\n",
       "      <td>1</td>\n",
       "      <td>1.7</td>\n",
       "      <td>0</td>\n",
       "      <td>44.66</td>\n",
       "      <td>96.29</td>\n",
       "      <td>83.01</td>\n",
       "      <td>106.63</td>\n",
       "      <td>0</td>\n",
       "    </tr>\n",
       "    <tr>\n",
       "      <th>1</th>\n",
       "      <td>32</td>\n",
       "      <td>0</td>\n",
       "      <td>28.21</td>\n",
       "      <td>133.2</td>\n",
       "      <td>190.4</td>\n",
       "      <td>133.7</td>\n",
       "      <td>3.3</td>\n",
       "      <td>1</td>\n",
       "      <td>2.0</td>\n",
       "      <td>0</td>\n",
       "      <td>55.92</td>\n",
       "      <td>119.94</td>\n",
       "      <td>72.49</td>\n",
       "      <td>105.04</td>\n",
       "      <td>0</td>\n",
       "    </tr>\n",
       "    <tr>\n",
       "      <th>2</th>\n",
       "      <td>89</td>\n",
       "      <td>1</td>\n",
       "      <td>32.28</td>\n",
       "      <td>96.0</td>\n",
       "      <td>230.0</td>\n",
       "      <td>96.3</td>\n",
       "      <td>5.4</td>\n",
       "      <td>2</td>\n",
       "      <td>3.6</td>\n",
       "      <td>1</td>\n",
       "      <td>55.11</td>\n",
       "      <td>114.20</td>\n",
       "      <td>67.23</td>\n",
       "      <td>141.94</td>\n",
       "      <td>4</td>\n",
       "    </tr>\n",
       "    <tr>\n",
       "      <th>3</th>\n",
       "      <td>78</td>\n",
       "      <td>1</td>\n",
       "      <td>27.05</td>\n",
       "      <td>115.4</td>\n",
       "      <td>207.1</td>\n",
       "      <td>100.1</td>\n",
       "      <td>1.0</td>\n",
       "      <td>0</td>\n",
       "      <td>2.5</td>\n",
       "      <td>1</td>\n",
       "      <td>44.86</td>\n",
       "      <td>99.49</td>\n",
       "      <td>78.40</td>\n",
       "      <td>130.89</td>\n",
       "      <td>0</td>\n",
       "    </tr>\n",
       "    <tr>\n",
       "      <th>4</th>\n",
       "      <td>38</td>\n",
       "      <td>1</td>\n",
       "      <td>37.68</td>\n",
       "      <td>128.4</td>\n",
       "      <td>219.4</td>\n",
       "      <td>114.6</td>\n",
       "      <td>0.3</td>\n",
       "      <td>0</td>\n",
       "      <td>0.6</td>\n",
       "      <td>1</td>\n",
       "      <td>50.15</td>\n",
       "      <td>59.04</td>\n",
       "      <td>66.49</td>\n",
       "      <td>131.33</td>\n",
       "      <td>1</td>\n",
       "    </tr>\n",
       "  </tbody>\n",
       "</table>\n",
       "</div>"
      ],
      "text/plain": [
       "   age  gender    bmi  blood_pressure  cholesterol_level  glucose_level  \\\n",
       "0   69       0  27.27            95.0              185.1          129.1   \n",
       "1   32       0  28.21           133.2              190.4          133.7   \n",
       "2   89       1  32.28            96.0              230.0           96.3   \n",
       "3   78       1  27.05           115.4              207.1          100.1   \n",
       "4   38       1  37.68           128.4              219.4          114.6   \n",
       "\n",
       "   physical_activity  smoking_status  alcohol_intake  family_history  \\\n",
       "0                1.8               1             1.7               0   \n",
       "1                3.3               1             2.0               0   \n",
       "2                5.4               2             3.6               1   \n",
       "3                1.0               0             2.5               1   \n",
       "4                0.3               0             0.6               1   \n",
       "\n",
       "   biomarker_A  biomarker_B  biomarker_C  biomarker_D  target  \n",
       "0        44.66        96.29        83.01       106.63       0  \n",
       "1        55.92       119.94        72.49       105.04       0  \n",
       "2        55.11       114.20        67.23       141.94       4  \n",
       "3        44.86        99.49        78.40       130.89       0  \n",
       "4        50.15        59.04        66.49       131.33       1  "
      ]
     },
     "execution_count": 4,
     "metadata": {},
     "output_type": "execute_result"
    }
   ],
   "source": [
    "# Load the dataset\n",
    "df = pd.read_csv(\"chronic_disease_dataset.csv\")\n",
    "df.head()"
   ]
  },
  {
   "cell_type": "markdown",
   "id": "abc06071-3496-40ee-8c6a-efa45aa7a615",
   "metadata": {},
   "source": [
    "### Intial EDA"
   ]
  },
  {
   "cell_type": "code",
   "execution_count": 5,
   "id": "2f9a705c-851f-4574-a898-9291aa70c691",
   "metadata": {
    "execution": {
     "iopub.execute_input": "2025-10-04T17:39:07.056898Z",
     "iopub.status.busy": "2025-10-04T17:39:07.056484Z",
     "iopub.status.idle": "2025-10-04T17:39:07.065289Z",
     "shell.execute_reply": "2025-10-04T17:39:07.064552Z",
     "shell.execute_reply.started": "2025-10-04T17:39:07.056871Z"
    }
   },
   "outputs": [
    {
     "name": "stdout",
     "output_type": "stream",
     "text": [
      "<class 'pandas.core.frame.DataFrame'>\n",
      "RangeIndex: 3498 entries, 0 to 3497\n",
      "Data columns (total 15 columns):\n",
      " #   Column             Non-Null Count  Dtype  \n",
      "---  ------             --------------  -----  \n",
      " 0   age                3498 non-null   int64  \n",
      " 1   gender             3498 non-null   int64  \n",
      " 2   bmi                3498 non-null   float64\n",
      " 3   blood_pressure     3498 non-null   float64\n",
      " 4   cholesterol_level  3498 non-null   float64\n",
      " 5   glucose_level      3498 non-null   float64\n",
      " 6   physical_activity  3498 non-null   float64\n",
      " 7   smoking_status     3498 non-null   int64  \n",
      " 8   alcohol_intake     3498 non-null   float64\n",
      " 9   family_history     3498 non-null   int64  \n",
      " 10  biomarker_A        3498 non-null   float64\n",
      " 11  biomarker_B        3498 non-null   float64\n",
      " 12  biomarker_C        3498 non-null   float64\n",
      " 13  biomarker_D        3498 non-null   float64\n",
      " 14  target             3498 non-null   int64  \n",
      "dtypes: float64(10), int64(5)\n",
      "memory usage: 410.0 KB\n"
     ]
    }
   ],
   "source": [
    "# Quick info\n",
    "df.info()"
   ]
  },
  {
   "cell_type": "code",
   "execution_count": 6,
   "id": "5db39477-44ed-4688-99b0-12320650b45f",
   "metadata": {
    "execution": {
     "iopub.execute_input": "2025-10-04T17:40:48.737472Z",
     "iopub.status.busy": "2025-10-04T17:40:48.737088Z",
     "iopub.status.idle": "2025-10-04T17:40:48.744705Z",
     "shell.execute_reply": "2025-10-04T17:40:48.743981Z",
     "shell.execute_reply.started": "2025-10-04T17:40:48.737450Z"
    }
   },
   "outputs": [
    {
     "data": {
      "text/plain": [
       "age                  0\n",
       "gender               0\n",
       "bmi                  0\n",
       "blood_pressure       0\n",
       "cholesterol_level    0\n",
       "glucose_level        0\n",
       "physical_activity    0\n",
       "smoking_status       0\n",
       "alcohol_intake       0\n",
       "family_history       0\n",
       "biomarker_A          0\n",
       "biomarker_B          0\n",
       "biomarker_C          0\n",
       "biomarker_D          0\n",
       "target               0\n",
       "dtype: int64"
      ]
     },
     "execution_count": 6,
     "metadata": {},
     "output_type": "execute_result"
    }
   ],
   "source": [
    "# Check for missing values\n",
    "df.isnull().sum()"
   ]
  },
  {
   "cell_type": "code",
   "execution_count": 8,
   "id": "46c4d7e3-b944-4c46-8eac-170c7ffea82d",
   "metadata": {
    "execution": {
     "iopub.execute_input": "2025-10-04T17:40:58.099847Z",
     "iopub.status.busy": "2025-10-04T17:40:58.099485Z",
     "iopub.status.idle": "2025-10-04T17:40:58.138160Z",
     "shell.execute_reply": "2025-10-04T17:40:58.137514Z",
     "shell.execute_reply.started": "2025-10-04T17:40:58.099825Z"
    }
   },
   "outputs": [
    {
     "data": {
      "text/html": [
       "<div>\n",
       "<style scoped>\n",
       "    .dataframe tbody tr th:only-of-type {\n",
       "        vertical-align: middle;\n",
       "    }\n",
       "\n",
       "    .dataframe tbody tr th {\n",
       "        vertical-align: top;\n",
       "    }\n",
       "\n",
       "    .dataframe thead th {\n",
       "        text-align: right;\n",
       "    }\n",
       "</style>\n",
       "<table border=\"1\" class=\"dataframe\">\n",
       "  <thead>\n",
       "    <tr style=\"text-align: right;\">\n",
       "      <th></th>\n",
       "      <th>age</th>\n",
       "      <th>gender</th>\n",
       "      <th>bmi</th>\n",
       "      <th>blood_pressure</th>\n",
       "      <th>cholesterol_level</th>\n",
       "      <th>glucose_level</th>\n",
       "      <th>physical_activity</th>\n",
       "      <th>smoking_status</th>\n",
       "      <th>alcohol_intake</th>\n",
       "      <th>family_history</th>\n",
       "      <th>biomarker_A</th>\n",
       "      <th>biomarker_B</th>\n",
       "      <th>biomarker_C</th>\n",
       "      <th>biomarker_D</th>\n",
       "      <th>target</th>\n",
       "    </tr>\n",
       "  </thead>\n",
       "  <tbody>\n",
       "    <tr>\n",
       "      <th>count</th>\n",
       "      <td>3498.000000</td>\n",
       "      <td>3498.000000</td>\n",
       "      <td>3498.000000</td>\n",
       "      <td>3498.000000</td>\n",
       "      <td>3498.000000</td>\n",
       "      <td>3498.000000</td>\n",
       "      <td>3498.000000</td>\n",
       "      <td>3498.000000</td>\n",
       "      <td>3498.000000</td>\n",
       "      <td>3498.000000</td>\n",
       "      <td>3498.000000</td>\n",
       "      <td>3498.000000</td>\n",
       "      <td>3498.000000</td>\n",
       "      <td>3498.000000</td>\n",
       "      <td>3498.000000</td>\n",
       "    </tr>\n",
       "    <tr>\n",
       "      <th>mean</th>\n",
       "      <td>53.054317</td>\n",
       "      <td>0.497427</td>\n",
       "      <td>27.068645</td>\n",
       "      <td>119.837107</td>\n",
       "      <td>199.884019</td>\n",
       "      <td>99.743768</td>\n",
       "      <td>3.067439</td>\n",
       "      <td>0.565752</td>\n",
       "      <td>1.965409</td>\n",
       "      <td>0.516581</td>\n",
       "      <td>49.810666</td>\n",
       "      <td>99.465346</td>\n",
       "      <td>75.508694</td>\n",
       "      <td>119.789969</td>\n",
       "      <td>1.382790</td>\n",
       "    </tr>\n",
       "    <tr>\n",
       "      <th>std</th>\n",
       "      <td>20.692678</td>\n",
       "      <td>0.500065</td>\n",
       "      <td>4.989415</td>\n",
       "      <td>15.029603</td>\n",
       "      <td>30.033575</td>\n",
       "      <td>19.724608</td>\n",
       "      <td>3.110761</td>\n",
       "      <td>0.740467</td>\n",
       "      <td>1.967543</td>\n",
       "      <td>0.499796</td>\n",
       "      <td>10.231295</td>\n",
       "      <td>24.969855</td>\n",
       "      <td>15.082765</td>\n",
       "      <td>19.970911</td>\n",
       "      <td>1.375097</td>\n",
       "    </tr>\n",
       "    <tr>\n",
       "      <th>min</th>\n",
       "      <td>18.000000</td>\n",
       "      <td>0.000000</td>\n",
       "      <td>8.520000</td>\n",
       "      <td>68.600000</td>\n",
       "      <td>99.000000</td>\n",
       "      <td>31.600000</td>\n",
       "      <td>0.000000</td>\n",
       "      <td>0.000000</td>\n",
       "      <td>0.000000</td>\n",
       "      <td>0.000000</td>\n",
       "      <td>12.190000</td>\n",
       "      <td>9.080000</td>\n",
       "      <td>22.390000</td>\n",
       "      <td>53.070000</td>\n",
       "      <td>0.000000</td>\n",
       "    </tr>\n",
       "    <tr>\n",
       "      <th>25%</th>\n",
       "      <td>35.000000</td>\n",
       "      <td>0.000000</td>\n",
       "      <td>23.710000</td>\n",
       "      <td>109.700000</td>\n",
       "      <td>179.200000</td>\n",
       "      <td>86.525000</td>\n",
       "      <td>0.900000</td>\n",
       "      <td>0.000000</td>\n",
       "      <td>0.600000</td>\n",
       "      <td>0.000000</td>\n",
       "      <td>43.112500</td>\n",
       "      <td>82.650000</td>\n",
       "      <td>65.695000</td>\n",
       "      <td>106.260000</td>\n",
       "      <td>0.000000</td>\n",
       "    </tr>\n",
       "    <tr>\n",
       "      <th>50%</th>\n",
       "      <td>53.000000</td>\n",
       "      <td>0.000000</td>\n",
       "      <td>27.105000</td>\n",
       "      <td>120.000000</td>\n",
       "      <td>199.700000</td>\n",
       "      <td>99.650000</td>\n",
       "      <td>2.100000</td>\n",
       "      <td>0.000000</td>\n",
       "      <td>1.400000</td>\n",
       "      <td>1.000000</td>\n",
       "      <td>49.730000</td>\n",
       "      <td>99.740000</td>\n",
       "      <td>75.495000</td>\n",
       "      <td>119.805000</td>\n",
       "      <td>1.000000</td>\n",
       "    </tr>\n",
       "    <tr>\n",
       "      <th>75%</th>\n",
       "      <td>71.000000</td>\n",
       "      <td>1.000000</td>\n",
       "      <td>30.410000</td>\n",
       "      <td>130.100000</td>\n",
       "      <td>220.200000</td>\n",
       "      <td>113.200000</td>\n",
       "      <td>4.200000</td>\n",
       "      <td>1.000000</td>\n",
       "      <td>2.700000</td>\n",
       "      <td>1.000000</td>\n",
       "      <td>56.815000</td>\n",
       "      <td>115.762500</td>\n",
       "      <td>85.437500</td>\n",
       "      <td>133.570000</td>\n",
       "      <td>3.000000</td>\n",
       "    </tr>\n",
       "    <tr>\n",
       "      <th>max</th>\n",
       "      <td>89.000000</td>\n",
       "      <td>1.000000</td>\n",
       "      <td>47.260000</td>\n",
       "      <td>168.100000</td>\n",
       "      <td>302.600000</td>\n",
       "      <td>167.400000</td>\n",
       "      <td>27.400000</td>\n",
       "      <td>2.000000</td>\n",
       "      <td>17.200000</td>\n",
       "      <td>1.000000</td>\n",
       "      <td>85.420000</td>\n",
       "      <td>186.260000</td>\n",
       "      <td>128.610000</td>\n",
       "      <td>190.240000</td>\n",
       "      <td>4.000000</td>\n",
       "    </tr>\n",
       "  </tbody>\n",
       "</table>\n",
       "</div>"
      ],
      "text/plain": [
       "               age       gender          bmi  blood_pressure  \\\n",
       "count  3498.000000  3498.000000  3498.000000     3498.000000   \n",
       "mean     53.054317     0.497427    27.068645      119.837107   \n",
       "std      20.692678     0.500065     4.989415       15.029603   \n",
       "min      18.000000     0.000000     8.520000       68.600000   \n",
       "25%      35.000000     0.000000    23.710000      109.700000   \n",
       "50%      53.000000     0.000000    27.105000      120.000000   \n",
       "75%      71.000000     1.000000    30.410000      130.100000   \n",
       "max      89.000000     1.000000    47.260000      168.100000   \n",
       "\n",
       "       cholesterol_level  glucose_level  physical_activity  smoking_status  \\\n",
       "count        3498.000000    3498.000000        3498.000000     3498.000000   \n",
       "mean          199.884019      99.743768           3.067439        0.565752   \n",
       "std            30.033575      19.724608           3.110761        0.740467   \n",
       "min            99.000000      31.600000           0.000000        0.000000   \n",
       "25%           179.200000      86.525000           0.900000        0.000000   \n",
       "50%           199.700000      99.650000           2.100000        0.000000   \n",
       "75%           220.200000     113.200000           4.200000        1.000000   \n",
       "max           302.600000     167.400000          27.400000        2.000000   \n",
       "\n",
       "       alcohol_intake  family_history  biomarker_A  biomarker_B  biomarker_C  \\\n",
       "count     3498.000000     3498.000000  3498.000000  3498.000000  3498.000000   \n",
       "mean         1.965409        0.516581    49.810666    99.465346    75.508694   \n",
       "std          1.967543        0.499796    10.231295    24.969855    15.082765   \n",
       "min          0.000000        0.000000    12.190000     9.080000    22.390000   \n",
       "25%          0.600000        0.000000    43.112500    82.650000    65.695000   \n",
       "50%          1.400000        1.000000    49.730000    99.740000    75.495000   \n",
       "75%          2.700000        1.000000    56.815000   115.762500    85.437500   \n",
       "max         17.200000        1.000000    85.420000   186.260000   128.610000   \n",
       "\n",
       "       biomarker_D       target  \n",
       "count  3498.000000  3498.000000  \n",
       "mean    119.789969     1.382790  \n",
       "std      19.970911     1.375097  \n",
       "min      53.070000     0.000000  \n",
       "25%     106.260000     0.000000  \n",
       "50%     119.805000     1.000000  \n",
       "75%     133.570000     3.000000  \n",
       "max     190.240000     4.000000  "
      ]
     },
     "execution_count": 8,
     "metadata": {},
     "output_type": "execute_result"
    }
   ],
   "source": [
    "# Summary statistics\n",
    "df.describe()"
   ]
  },
  {
   "cell_type": "code",
   "execution_count": 9,
   "id": "2ada3a2b-75af-49ca-aab7-65ddb541c319",
   "metadata": {
    "execution": {
     "iopub.execute_input": "2025-10-04T17:41:01.140701Z",
     "iopub.status.busy": "2025-10-04T17:41:01.140368Z",
     "iopub.status.idle": "2025-10-04T17:41:01.284058Z",
     "shell.execute_reply": "2025-10-04T17:41:01.283305Z",
     "shell.execute_reply.started": "2025-10-04T17:41:01.140679Z"
    }
   },
   "outputs": [
    {
     "data": {
      "image/png": "[encoded data removed]",
      "text/plain": [
       "<Figure size 640x480 with 1 Axes>"
      ]
     },
     "metadata": {},
     "output_type": "display_data"
    }
   ],
   "source": [
    "# Inspect target distribution\n",
    "df['target'].value_counts(normalize=True)\n",
    "sns.countplot(x='target', data=df)\n",
    "plt.title(\"Target Class Distribution\")\n",
    "plt.show()"
   ]
  },
  {
   "cell_type": "markdown",
   "id": "61e5ecde-91b4-4007-ad87-fe89f0dc1aba",
   "metadata": {},
   "source": [
    "### Preprocessing Features"
   ]
  },
  {
   "cell_type": "code",
   "execution_count": 10,
   "id": "26b3e8f0-f08b-47c9-a9cb-53698dd2b5e1",
   "metadata": {
    "execution": {
     "iopub.execute_input": "2025-10-04T17:44:25.069850Z",
     "iopub.status.busy": "2025-10-04T17:44:25.069221Z",
     "iopub.status.idle": "2025-10-04T17:44:25.082442Z",
     "shell.execute_reply": "2025-10-04T17:44:25.081409Z",
     "shell.execute_reply.started": "2025-10-04T17:44:25.069815Z"
    }
   },
   "outputs": [],
   "source": [
    "# Encode categorical variables if needed\n",
    "categorical_cols = ['gender', 'smoking_status', 'alcohol_intake', 'physical_activity', 'family_history']\n",
    "for col in categorical_cols:\n",
    "    if df[col].dtype == 'object':\n",
    "        le = LabelEncoder()\n",
    "        df[col] = le.fit_transform(df[col])\n",
    "\n",
    "# Separate features and target\n",
    "X = df.drop(\"target\", axis=1)\n",
    "y = df[\"target\"]\n",
    "\n",
    "# Standardize numerical features\n",
    "scaler = StandardScaler()\n",
    "X_scaled = scaler.fit_transform(X)"
   ]
  },
  {
   "cell_type": "markdown",
   "id": "570dbd4f-a777-4f05-aa69-d4fa9ed4e4cb",
   "metadata": {},
   "source": [
    "### Train/Test Split"
   ]
  },
  {
   "cell_type": "code",
   "execution_count": 11,
   "id": "0427edf3-40c7-4945-8886-e8b1b53f1b0f",
   "metadata": {
    "execution": {
     "iopub.execute_input": "2025-10-04T17:44:49.514098Z",
     "iopub.status.busy": "2025-10-04T17:44:49.513546Z",
     "iopub.status.idle": "2025-10-04T17:44:49.526096Z",
     "shell.execute_reply": "2025-10-04T17:44:49.525178Z",
     "shell.execute_reply.started": "2025-10-04T17:44:49.514061Z"
    }
   },
   "outputs": [],
   "source": [
    "X_train, X_test, y_train, y_test = train_test_split(\n",
    "    X_scaled, y, test_size=0.2, random_state=42, stratify=y\n",
    ")"
   ]
  },
  {
   "cell_type": "markdown",
   "id": "8856794d-9541-4cdc-9693-3cf6b7a205f6",
   "metadata": {},
   "source": [
    "### Train a Simple Model"
   ]
  },
  {
   "cell_type": "code",
   "execution_count": 12,
   "id": "f712ecab-b3ce-413f-8955-1e8ccb29f806",
   "metadata": {
    "execution": {
     "iopub.execute_input": "2025-10-04T17:45:23.315603Z",
     "iopub.status.busy": "2025-10-04T17:45:23.315194Z",
     "iopub.status.idle": "2025-10-04T17:45:24.540278Z",
     "shell.execute_reply": "2025-10-04T17:45:24.539642Z",
     "shell.execute_reply.started": "2025-10-04T17:45:23.315578Z"
    }
   },
   "outputs": [
    {
     "name": "stdout",
     "output_type": "stream",
     "text": [
      "Classification Report:\n",
      "\n",
      "              precision    recall  f1-score   support\n",
      "\n",
      "           0       0.38      0.93      0.54       265\n",
      "           1       0.17      0.04      0.06       150\n",
      "           2       0.33      0.02      0.04       104\n",
      "           3       0.20      0.02      0.03       114\n",
      "           4       0.00      0.00      0.00        67\n",
      "\n",
      "    accuracy                           0.37       700\n",
      "   macro avg       0.22      0.20      0.13       700\n",
      "weighted avg       0.26      0.37      0.23       700\n",
      "\n",
      "Confusion Matrix:\n",
      "\n"
     ]
    },
    {
     "data": {
      "image/png": "[encoded data removed]",
      "text/plain": [
       "<Figure size 640x480 with 2 Axes>"
      ]
     },
     "metadata": {},
     "output_type": "display_data"
    }
   ],
   "source": [
    "# Random Forest Classifier (works well for tabular data and multi-class)\n",
    "model = RandomForestClassifier(n_estimators=100, random_state=42, class_weight=\"balanced\")\n",
    "model.fit(X_train, y_train)\n",
    "\n",
    "# Predictions\n",
    "y_pred = model.predict(X_test)\n",
    "\n",
    "# Evaluate\n",
    "print(\"Classification Report:\\n\")\n",
    "print(classification_report(y_test, y_pred))\n",
    "print(\"Confusion Matrix:\\n\")\n",
    "sns.heatmap(confusion_matrix(y_test, y_pred), annot=True, fmt=\"d\", cmap=\"Blues\")\n",
    "plt.show()"
   ]
  },
  {
   "cell_type": "markdown",
   "id": "355751d1-05af-4f64-ba69-d1ae478b2fd6",
   "metadata": {},
   "source": [
    "### Feature Importance Visualization"
   ]
  },
  {
   "cell_type": "code",
   "execution_count": 13,
   "id": "bffead9e-5bfc-4d0f-8daa-565cba4af412",
   "metadata": {
    "execution": {
     "iopub.execute_input": "2025-10-04T17:45:49.530227Z",
     "iopub.status.busy": "2025-10-04T17:45:49.529815Z",
     "iopub.status.idle": "2025-10-04T17:45:49.755277Z",
     "shell.execute_reply": "2025-10-04T17:45:49.754461Z",
     "shell.execute_reply.started": "2025-10-04T17:45:49.530203Z"
    }
   },
   "outputs": [
    {
     "data": {
      "image/png": "[encoded data removed]",
      "text/plain": [
       "<Figure size 1000x600 with 1 Axes>"
      ]
     },
     "metadata": {},
     "output_type": "display_data"
    }
   ],
   "source": [
    "# Feature importance\n",
    "feat_importances = pd.Series(model.feature_importances_, index=X.columns)\n",
    "feat_importances = feat_importances.sort_values(ascending=False)\n",
    "\n",
    "plt.figure(figsize=(10,6))\n",
    "sns.barplot(x=feat_importances, y=feat_importances.index)\n",
    "plt.title(\"Feature Importance\")\n",
    "plt.show()"
   ]
  },
  {
   "cell_type": "markdown",
   "id": "bd676cea-c7b8-4cad-8802-e4cc7b25b4d4",
   "metadata": {},
   "source": [
    "### Saving the trained model and scaler"
   ]
  },
  {
   "cell_type": "code",
   "execution_count": 14,
   "id": "1c21106f-4302-423a-b72e-93b92af4b795",
   "metadata": {
    "execution": {
     "iopub.execute_input": "2025-10-04T17:51:46.576434Z",
     "iopub.status.busy": "2025-10-04T17:51:46.575997Z",
     "iopub.status.idle": "2025-10-04T17:51:46.692502Z",
     "shell.execute_reply": "2025-10-04T17:51:46.691847Z",
     "shell.execute_reply.started": "2025-10-04T17:51:46.576408Z"
    }
   },
   "outputs": [
    {
     "data": {
      "text/plain": [
       "['scaler.pkl']"
      ]
     },
     "execution_count": 14,
     "metadata": {},
     "output_type": "execute_result"
    }
   ],
   "source": [
    "import joblib\n",
    "\n",
    "# Save the trained Random Forest model\n",
    "joblib.dump(model, \"model.pkl\")\n",
    "\n",
    "# Save the scaler\n",
    "joblib.dump(scaler, \"scaler.pkl\")"
   ]
  }
 ],
 "metadata": {
  "kernelspec": {
   "display_name": "anaconda-2024.02-py310",
   "language": "python",
   "name": "conda-env-anaconda-2024.02-py310-py"
  },
  "language_info": {
   "codemirror_mode": {
    "name": "ipython",
    "version": 3
   },
   "file_extension": ".py",
   "mimetype": "text/x-python",
   "name": "python",
   "nbconvert_exporter": "python",
   "pygments_lexer": "ipython3",
   "version": "3.10.14"
  }
 },
 "nbformat": 4,
 "nbformat_minor": 5
}
