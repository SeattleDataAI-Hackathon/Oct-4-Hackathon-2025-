{
 "cells": [
  {
   "cell_type": "code",
   "execution_count": null,
   "id": "cf63074d",
   "metadata": {},
   "outputs": [
    {
     "ename": "ModuleNotFoundError",
     "evalue": "No module named 'openai'",
     "output_type": "error",
     "traceback": [
      "\u001b[31m---------------------------------------------------------------------------\u001b[39m",
      "\u001b[31mModuleNotFoundError\u001b[39m                       Traceback (most recent call last)",
      "\u001b[36mCell\u001b[39m\u001b[36m \u001b[39m\u001b[32mIn[1]\u001b[39m\u001b[32m, line 1\u001b[39m\n\u001b[32m----> \u001b[39m\u001b[32m1\u001b[39m \u001b[38;5;28;01mfrom\u001b[39;00m\u001b[38;5;250m \u001b[39m\u001b[34;01mopenai\u001b[39;00m\u001b[38;5;250m \u001b[39m\u001b[38;5;28;01mimport\u001b[39;00m OpenAI\n\u001b[32m      2\u001b[39m \u001b[38;5;28;01mimport\u001b[39;00m\u001b[38;5;250m \u001b[39m\u001b[34;01mjoblib\u001b[39;00m\n\u001b[32m      4\u001b[39m client = OpenAI(api_key=\u001b[33m\"\u001b[39m\u001b[33mYOUR_API_KEY\u001b[39m\u001b[33m\"\u001b[39m)  \u001b[38;5;66;03m# Or load from environment variable\u001b[39;00m\n",
      "\u001b[31mModuleNotFoundError\u001b[39m: No module named 'openai'"
     ]
    }
   ],
   "source": [
    "from dotenv import load_dotenv\n",
    "import os\n",
    "from openai import OpenAI\n",
    "import joblib\n",
    "\n",
    "load_dotenv()  # loads environment variables from .env\n",
    "\n",
    "client = OpenAI(api_key=os.environ[\"OPENAI_API_KEY\"])\n",
    "\n",
    "def generate_recommendations_llm(user_data: dict, disease_name: str, n=3):\n",
    "    \"\"\"\n",
    "    user_data: dictionary containing age, bmi, bp, etc.\n",
    "    disease_name: string like 'Type 2 Diabetes'\n",
    "    n: number of recommendations to generate\n",
    "    \"\"\"\n",
    "    # Build the prompt dynamically\n",
    "    prompt = f\"Patient Data:\\n\"\n",
    "    for key, val in user_data.items():\n",
    "        prompt += f\"- {key}: {val}\\n\"\n",
    "    prompt += f\"\\nPredicted Disease: {disease_name}\\n\\n\"\n",
    "    prompt += f\"Generate {n} concise lifestyle recommendations for this patient. Be actionable and clear.\"\n",
    "\n",
    "    response = client.chat.completions.create(\n",
    "        model=\"gpt-4.1-mini\",\n",
    "        messages=[{\"role\": \"user\", \"content\": prompt}],\n",
    "        temperature=0.7\n",
    "    )\n",
    "    \n",
    "    # Parse the response (split into bullet points)\n",
    "    text = response.choices[0].message.content\n",
    "    recs = [line.strip(\"- \").strip() for line in text.split(\"\\n\") if line.strip()]\n",
    "    return recs\n"
   ]
  },
  {
   "cell_type": "code",
   "execution_count": null,
   "id": "f194dd1e",
   "metadata": {},
   "outputs": [],
   "source": [
    "user_data = {\n",
    "    \"Age\": 45,\n",
    "    \"Gender\": \"Male\",\n",
    "    \"BMI\": 29.5,\n",
    "    \"Blood Pressure\": 135,\n",
    "    \"Cholesterol\": 210,\n",
    "    \"Glucose\": 115,\n",
    "    \"Physical Activity\": 1.5,\n",
    "    \"Smoking Status\": \"Former\",\n",
    "    \"Alcohol Intake\": \"Moderate\",\n",
    "    \"Family History\": \"Yes\"\n",
    "}\n",
    "\n",
    "disease_name = \"Type 2 Diabetes\"\n",
    "\n",
    "recs = generate_recommendations_llm(user_data, disease_name)\n",
    "print(\"Generated Recommendations:\")\n",
    "for r in recs:\n",
    "    print(\"-\", r)"
   ]
  }
 ],
 "metadata": {
  "kernelspec": {
   "display_name": "venv",
   "language": "python",
   "name": "python3"
  },
  "language_info": {
   "codemirror_mode": {
    "name": "ipython",
    "version": 3
   },
   "file_extension": ".py",
   "mimetype": "text/x-python",
   "name": "python",
   "nbconvert_exporter": "python",
   "pygments_lexer": "ipython3",
   "version": "3.12.10"
  }
 },
 "nbformat": 4,
 "nbformat_minor": 5
}
